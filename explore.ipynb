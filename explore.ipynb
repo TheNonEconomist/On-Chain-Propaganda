{
 "cells": [
  {
   "cell_type": "code",
   "execution_count": 1,
   "metadata": {},
   "outputs": [],
   "source": [
    "import os\n",
    "from dotenv import load_dotenv\n",
    "from web3 import Web3\n",
    "\n",
    "from story_protocol_python_sdk import StoryClient"
   ]
  },
  {
   "cell_type": "code",
   "execution_count": 2,
   "metadata": {},
   "outputs": [],
   "source": [
    "load_dotenv()\n",
    "private_key = os.getenv('WALLET_PRIVATE_KEY')\n",
    "rpc_url = os.getenv('RPC_PROVIDER_URL')\n",
    "\n",
    "# Initialize Web3\n",
    "web3 = Web3(Web3.HTTPProvider(rpc_url))\n",
    "\n",
    "# Set up the account with the private key\n",
    "account = web3.eth.account.from_key(private_key)\n",
    "story_client = StoryClient(web3, account, 11155111)"
   ]
  },
  {
   "cell_type": "code",
   "execution_count": 33,
   "metadata": {},
   "outputs": [
    {
     "name": "stdout",
     "output_type": "stream",
     "text": [
      "Root IPA created at transaction hash None\n",
      "IPA ID: 0x234B4a0bBC330598aCe669616B9Eff465bd4F3ea\n"
     ]
    }
   ],
   "source": [
    "response = story_client.IPAsset.register(\n",
    "    token_contract=\"0xd516482bef63Ff19Ed40E4C6C2e626ccE04e19ED\", # your NFT contract address\n",
    "    token_id=12 # your NFT token ID\n",
    ")\n",
    "\n",
    "print(f\"Root IPA created at transaction hash {response['txHash']}\")\n",
    "print(f\"IPA ID: {response['ipId']}\")"
   ]
  },
  {
   "cell_type": "code",
   "execution_count": null,
   "metadata": {},
   "outputs": [],
   "source": []
  },
  {
   "cell_type": "code",
   "execution_count": 32,
   "metadata": {},
   "outputs": [
    {
     "ename": "KeyError",
     "evalue": "'txHash'",
     "output_type": "error",
     "traceback": [
      "\u001b[0;31m---------------------------------------------------------------------------\u001b[0m",
      "\u001b[0;31mKeyError\u001b[0m                                  Traceback (most recent call last)",
      "\u001b[1;32m/Users/keonshikkim/VisualStudio/On-Chain-Propaganda/explore.ipynb Cell 4\u001b[0m line \u001b[0;36m7\n\u001b[1;32m      <a href='vscode-notebook-cell:/Users/keonshikkim/VisualStudio/On-Chain-Propaganda/explore.ipynb#W2sZmlsZQ%3D%3D?line=0'>1</a>\u001b[0m response2 \u001b[39m=\u001b[39m story_client\u001b[39m.\u001b[39mLicense\u001b[39m.\u001b[39mregisterCommercialUsePIL(\n\u001b[1;32m      <a href='vscode-notebook-cell:/Users/keonshikkim/VisualStudio/On-Chain-Propaganda/explore.ipynb#W2sZmlsZQ%3D%3D?line=1'>2</a>\u001b[0m     minting_fee\u001b[39m=\u001b[39m\u001b[39m1\u001b[39m,\n\u001b[1;32m      <a href='vscode-notebook-cell:/Users/keonshikkim/VisualStudio/On-Chain-Propaganda/explore.ipynb#W2sZmlsZQ%3D%3D?line=2'>3</a>\u001b[0m     currency\u001b[39m=\u001b[39m\u001b[39m\"\u001b[39m\u001b[39m0xB132A6B7AE652c974EE1557A3521D53d18F6739f\u001b[39m\u001b[39m\"\u001b[39m,\n\u001b[1;32m      <a href='vscode-notebook-cell:/Users/keonshikkim/VisualStudio/On-Chain-Propaganda/explore.ipynb#W2sZmlsZQ%3D%3D?line=3'>4</a>\u001b[0m     royalty_policy\u001b[39m=\u001b[39m\u001b[39m\"\u001b[39m\u001b[39m0xAAbaf349C7a2A84564F9CC4Ac130B3f19A718E86\u001b[39m\u001b[39m\"\u001b[39m\n\u001b[1;32m      <a href='vscode-notebook-cell:/Users/keonshikkim/VisualStudio/On-Chain-Propaganda/explore.ipynb#W2sZmlsZQ%3D%3D?line=4'>5</a>\u001b[0m )\n\u001b[0;32m----> <a href='vscode-notebook-cell:/Users/keonshikkim/VisualStudio/On-Chain-Propaganda/explore.ipynb#W2sZmlsZQ%3D%3D?line=6'>7</a>\u001b[0m \u001b[39mprint\u001b[39m(\u001b[39mf\u001b[39m\u001b[39m\"\u001b[39m\u001b[39mPIL Terms registered at transaction hash \u001b[39m\u001b[39m{\u001b[39;00mresponse2[\u001b[39m'\u001b[39;49m\u001b[39mtxHash\u001b[39;49m\u001b[39m'\u001b[39;49m]\u001b[39m}\u001b[39;00m\u001b[39m License Terms ID: \u001b[39m\u001b[39m{\u001b[39;00mresponse2[\u001b[39m'\u001b[39m\u001b[39mlicenseTermsId\u001b[39m\u001b[39m'\u001b[39m]\u001b[39m}\u001b[39;00m\u001b[39m\"\u001b[39m)\n",
      "\u001b[0;31mKeyError\u001b[0m: 'txHash'"
     ]
    }
   ],
   "source": [
    "response2 = story_client.License.registerCommercialUsePIL(\n",
    "    minting_fee=1,\n",
    "    currency=\"0xB132A6B7AE652c974EE1557A3521D53d18F6739f\",\n",
    "    royalty_policy=\"0xAAbaf349C7a2A84564F9CC4Ac130B3f19A718E86\"\n",
    ")\n",
    "\n",
    "print(f\"PIL Terms registered at transaction hash {response2['txHash']} License Terms ID: {response2['licenseTermsId']}\")"
   ]
  },
  {
   "cell_type": "code",
   "execution_count": 30,
   "metadata": {},
   "outputs": [
    {
     "data": {
      "text/plain": [
       "{'licenseTermsId': 3}"
      ]
     },
     "execution_count": 30,
     "metadata": {},
     "output_type": "execute_result"
    }
   ],
   "source": [
    "response"
   ]
  },
  {
   "cell_type": "code",
   "execution_count": null,
   "metadata": {},
   "outputs": [
    {
     "ename": "KeyError",
     "evalue": "'txHash'",
     "output_type": "error",
     "traceback": [
      "\u001b[0;31m---------------------------------------------------------------------------\u001b[0m",
      "\u001b[0;31mKeyError\u001b[0m                                  Traceback (most recent call last)",
      "\u001b[1;32m/Users/keonshikkim/VisualStudio/On-Chain-Propaganda/explore.ipynb Cell 6\u001b[0m line \u001b[0;36m8\n\u001b[1;32m      <a href='vscode-notebook-cell:/Users/keonshikkim/VisualStudio/On-Chain-Propaganda/explore.ipynb#W5sZmlsZQ%3D%3D?line=0'>1</a>\u001b[0m response \u001b[39m=\u001b[39m story_client\u001b[39m.\u001b[39mLicense\u001b[39m.\u001b[39mregisterCommercialRemixPIL(\n\u001b[1;32m      <a href='vscode-notebook-cell:/Users/keonshikkim/VisualStudio/On-Chain-Propaganda/explore.ipynb#W5sZmlsZQ%3D%3D?line=1'>2</a>\u001b[0m     minting_fee\u001b[39m=\u001b[39m\u001b[39m1\u001b[39m,\n\u001b[1;32m      <a href='vscode-notebook-cell:/Users/keonshikkim/VisualStudio/On-Chain-Propaganda/explore.ipynb#W5sZmlsZQ%3D%3D?line=2'>3</a>\u001b[0m     currency\u001b[39m=\u001b[39m\u001b[39m\"\u001b[39m\u001b[39m0xB132A6B7AE652c974EE1557A3521D53d18F6739f\u001b[39m\u001b[39m\"\u001b[39m,\n\u001b[1;32m      <a href='vscode-notebook-cell:/Users/keonshikkim/VisualStudio/On-Chain-Propaganda/explore.ipynb#W5sZmlsZQ%3D%3D?line=3'>4</a>\u001b[0m     commercial_rev_share\u001b[39m=\u001b[39m\u001b[39m10\u001b[39m,\n\u001b[1;32m      <a href='vscode-notebook-cell:/Users/keonshikkim/VisualStudio/On-Chain-Propaganda/explore.ipynb#W5sZmlsZQ%3D%3D?line=4'>5</a>\u001b[0m     royalty_policy\u001b[39m=\u001b[39m\u001b[39m\"\u001b[39m\u001b[39m0xAAbaf349C7a2A84564F9CC4Ac130B3f19A718E86\u001b[39m\u001b[39m\"\u001b[39m\n\u001b[1;32m      <a href='vscode-notebook-cell:/Users/keonshikkim/VisualStudio/On-Chain-Propaganda/explore.ipynb#W5sZmlsZQ%3D%3D?line=5'>6</a>\u001b[0m )\n\u001b[0;32m----> <a href='vscode-notebook-cell:/Users/keonshikkim/VisualStudio/On-Chain-Propaganda/explore.ipynb#W5sZmlsZQ%3D%3D?line=7'>8</a>\u001b[0m \u001b[39mprint\u001b[39m(\u001b[39mf\u001b[39m\u001b[39m\"\u001b[39m\u001b[39mPIL Terms registered at transaction hash \u001b[39m\u001b[39m{\u001b[39;00mresponse[\u001b[39m'\u001b[39;49m\u001b[39mtxHash\u001b[39;49m\u001b[39m'\u001b[39;49m]\u001b[39m}\u001b[39;00m\u001b[39m License Terms ID: \u001b[39m\u001b[39m{\u001b[39;00mresponse[\u001b[39m'\u001b[39m\u001b[39mlicenseTermsId\u001b[39m\u001b[39m'\u001b[39m]\u001b[39m}\u001b[39;00m\u001b[39m\"\u001b[39m)\n",
      "\u001b[0;31mKeyError\u001b[0m: 'txHash'"
     ]
    }
   ],
   "source": [
    "response3 = story_client.License.registerCommercialRemixPIL(\n",
    "    minting_fee=1,\n",
    "    currency=\"0xB132A6B7AE652c974EE1557A3521D53d18F6739f\",\n",
    "    commercial_rev_share=10,\n",
    "    royalty_policy=\"0xAAbaf349C7a2A84564F9CC4Ac130B3f19A718E86\"\n",
    ")\n",
    "\n",
    "print(f\"PIL Terms registered at transaction hash {response3['txHash']} License Terms ID: {response3['licenseTermsId']}\")"
   ]
  },
  {
   "cell_type": "code",
   "execution_count": null,
   "metadata": {},
   "outputs": [
    {
     "data": {
      "text/plain": [
       "{'licenseTermsId': 60}"
      ]
     },
     "execution_count": 19,
     "metadata": {},
     "output_type": "execute_result"
    }
   ],
   "source": [
    "response"
   ]
  },
  {
   "cell_type": "code",
   "execution_count": null,
   "metadata": {},
   "outputs": [
    {
     "ename": "KeyError",
     "evalue": "'txHash'",
     "output_type": "error",
     "traceback": [
      "\u001b[0;31m---------------------------------------------------------------------------\u001b[0m",
      "\u001b[0;31mKeyError\u001b[0m                                  Traceback (most recent call last)",
      "\u001b[1;32m/Users/keonshikkim/VisualStudio/On-Chain-Propaganda/explore.ipynb Cell 8\u001b[0m line \u001b[0;36m3\n\u001b[1;32m      <a href='vscode-notebook-cell:/Users/keonshikkim/VisualStudio/On-Chain-Propaganda/explore.ipynb#X11sZmlsZQ%3D%3D?line=0'>1</a>\u001b[0m response \u001b[39m=\u001b[39m story_client\u001b[39m.\u001b[39mLicense\u001b[39m.\u001b[39mregisterNonComSocialRemixingPIL()\n\u001b[0;32m----> <a href='vscode-notebook-cell:/Users/keonshikkim/VisualStudio/On-Chain-Propaganda/explore.ipynb#X11sZmlsZQ%3D%3D?line=2'>3</a>\u001b[0m \u001b[39mprint\u001b[39m(\u001b[39mf\u001b[39m\u001b[39m\"\u001b[39m\u001b[39mPIL Terms registered at transaction hash \u001b[39m\u001b[39m{\u001b[39;00mresponse[\u001b[39m'\u001b[39;49m\u001b[39mtxHash\u001b[39;49m\u001b[39m'\u001b[39;49m]\u001b[39m}\u001b[39;00m\u001b[39m License Terms ID: \u001b[39m\u001b[39m{\u001b[39;00mresponse[\u001b[39m'\u001b[39m\u001b[39mlicenseTermsId\u001b[39m\u001b[39m'\u001b[39m]\u001b[39m}\u001b[39;00m\u001b[39m\"\u001b[39m)\n",
      "\u001b[0;31mKeyError\u001b[0m: 'txHash'"
     ]
    }
   ],
   "source": [
    "response = story_client.License.registerNonComSocialRemixingPIL()\n",
    "\n",
    "print(f\"PIL Terms registered at transaction hash {response['txHash']} License Terms ID: {response['licenseTermsId']}\")"
   ]
  },
  {
   "cell_type": "code",
   "execution_count": 26,
   "metadata": {},
   "outputs": [
    {
     "data": {
      "text/plain": [
       "{'licenseTermsId': 3}"
      ]
     },
     "execution_count": 26,
     "metadata": {},
     "output_type": "execute_result"
    }
   ],
   "source": [
    "response"
   ]
  },
  {
   "cell_type": "code",
   "execution_count": 36,
   "metadata": {},
   "outputs": [
    {
     "name": "stdout",
     "output_type": "stream",
     "text": [
      "License Terms already attached to this IPA\n"
     ]
    }
   ],
   "source": [
    "try:\n",
    "  response_a = story_client.License.attachLicenseTerms(\n",
    "    ip_id=\"0x234B4a0bBC330598aCe669616B9Eff465bd4F3ea\", \n",
    "    license_template=\"0x260B6CB6284c89dbE660c0004233f7bB99B5edE7\", \n",
    "    license_terms_id=3\n",
    "  )\n",
    "  print(f\"Attached License Terms to IPA at transaction hash {response_a['txHash']}.\")\n",
    "except Exception as e:\n",
    "  print(\"License Terms already attached to this IPA\")"
   ]
  },
  {
   "cell_type": "code",
   "execution_count": 38,
   "metadata": {},
   "outputs": [],
   "source": [
    "import cv2\n",
    "import numpy as np"
   ]
  },
  {
   "cell_type": "code",
   "execution_count": 45,
   "metadata": {},
   "outputs": [
    {
     "data": {
      "text/plain": [
       "True"
      ]
     },
     "execution_count": 45,
     "metadata": {},
     "output_type": "execute_result"
    }
   ],
   "source": [
    "def concatenate_images_opencv(image_paths, horizontal=True):\n",
    "    images = [cv2.imread(img_path) for img_path in image_paths]\n",
    "    \n",
    "    if horizontal:\n",
    "        concatenated_image = np.hstack(images)\n",
    "    else:\n",
    "        concatenated_image = np.vstack(images)\n",
    "    \n",
    "    return concatenated_image\n",
    "\n",
    "# Example usage\n",
    "paths = ['hello_bye.png', 'hello_bye_copy.png', 'hello_bye_copy.png']\n",
    "result_image = concatenate_images_opencv(paths, horizontal=False)\n",
    "cv2.imwrite('concatenated_image_vertical.jpg', result_image)"
   ]
  },
  {
   "cell_type": "code",
   "execution_count": 25,
   "metadata": {},
   "outputs": [],
   "source": [
    "def add_text_alignment_check(\n",
    "        image_path: list, text: str, \n",
    "        position: tuple, alignment: str,\n",
    "        font, font_scale: int, font_color: tuple, font_thickness: int\n",
    "        ):\n",
    "    \"\"\"\n",
    "    add text as well as where it's aligned. By default it's left aligned from the position\n",
    "    \"\"\"\n",
    "    if alignment == \"right\":\n",
    "        (text_w, text_h), _ = cv2.getTextSize(text, font, font_scale, font_thickness)\n",
    "        position = (position[0]-text_w, position[1]+text_h)\n",
    "    elif alignment == \"center\":\n",
    "        (text_w, text_h), _ = cv2.getTextSize(text, font, font_scale, font_thickness)\n",
    "        position = (position[0]-text_w//2, position[1]+text_h//2)\n",
    "    \n",
    "    return __add_text_to_image(image_path, text, position, font, font_scale, font_color, font_thickness)\n",
    "\n",
    "\n",
    "def __add_text_to_image(image_path, text, position, font=cv2.FONT_ITALIC, font_scale=1, font_color=(255, 0, 0), font_thickness=50):\n",
    "    # Read the image\n",
    "    image = cv2.imread(image_path)\n",
    "\n",
    "    # Add text to the image\n",
    "    cv2.putText(image, text, position, font, font_scale, font_color, font_thickness)\n",
    "\n",
    "    return image"
   ]
  },
  {
   "cell_type": "code",
   "execution_count": 29,
   "metadata": {},
   "outputs": [
    {
     "data": {
      "text/plain": [
       "True"
      ]
     },
     "execution_count": 29,
     "metadata": {},
     "output_type": "execute_result"
    }
   ],
   "source": [
    "image_path = 'hello_bye.png'\n",
    "text = 'Hello, World!'\n",
    "\n",
    "img = cv2.imread(image_path)\n",
    "h, w, c = img.shape\n",
    "center_y, center_x = h//2, w//2\n",
    "\n",
    "# position = (center_y, center_x)  # Position (x, y) where the text will be placed # TODO: write eq for positioning based on image dimension\n",
    "position = (center_x, center_y) \n",
    "\n",
    "## \n",
    "result_image = add_text_alignment_check(image_path, text, position, alignment=\"right\", font=cv2.FONT_ITALIC, font_scale=20, font_color=(0, 0, 0), font_thickness=2)\n",
    "cv2.imwrite('image_with_text_right_aligned.png', result_image)"
   ]
  },
  {
   "cell_type": "code",
   "execution_count": 30,
   "metadata": {},
   "outputs": [
    {
     "data": {
      "text/plain": [
       "True"
      ]
     },
     "execution_count": 30,
     "metadata": {},
     "output_type": "execute_result"
    }
   ],
   "source": [
    "result_image = add_text_alignment_check(image_path, text, position, alignment=\"left\", font=cv2.FONT_ITALIC, font_scale=20, font_color=(0, 0, 0), font_thickness=2)\n",
    "cv2.imwrite('image_with_text_left_aligned.png', result_image)\n"
   ]
  },
  {
   "cell_type": "code",
   "execution_count": 31,
   "metadata": {},
   "outputs": [
    {
     "data": {
      "text/plain": [
       "True"
      ]
     },
     "execution_count": 31,
     "metadata": {},
     "output_type": "execute_result"
    }
   ],
   "source": [
    "result_image = add_text_alignment_check(image_path, text, position, alignment=\"center\", font=cv2.FONT_ITALIC, font_scale=20, font_color=(0, 0, 0), font_thickness=2)\n",
    "cv2.imwrite('image_with_text_center_aligned.png', result_image)"
   ]
  },
  {
   "cell_type": "code",
   "execution_count": null,
   "metadata": {},
   "outputs": [],
   "source": []
  }
 ],
 "metadata": {
  "kernelspec": {
   "display_name": "programamble_ip",
   "language": "python",
   "name": "python3"
  },
  "language_info": {
   "codemirror_mode": {
    "name": "ipython",
    "version": 3
   },
   "file_extension": ".py",
   "mimetype": "text/x-python",
   "name": "python",
   "nbconvert_exporter": "python",
   "pygments_lexer": "ipython3",
   "version": "3.10.11"
  }
 },
 "nbformat": 4,
 "nbformat_minor": 2
}
