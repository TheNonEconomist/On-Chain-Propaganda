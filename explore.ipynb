{
 "cells": [
  {
   "cell_type": "code",
   "execution_count": 22,
   "metadata": {},
   "outputs": [],
   "source": [
    "import os\n",
    "from dotenv import load_dotenv\n",
    "from web3 import Web3\n",
    "\n",
    "from story_protocol_python_sdk import StoryClient"
   ]
  },
  {
   "cell_type": "code",
   "execution_count": 27,
   "metadata": {},
   "outputs": [],
   "source": [
    "load_dotenv()\n",
    "private_key = os.getenv('WALLET_PRIVATE_KEY')\n",
    "rpc_url = os.getenv('RPC_PROVIDER_URL')\n",
    "\n",
    "# Initialize Web3\n",
    "web3 = Web3(Web3.HTTPProvider(rpc_url))\n",
    "\n",
    "# Set up the account with the private key\n",
    "account = web3.eth.account.from_key(private_key)\n",
    "story_client = StoryClient(web3, account, 11155111)"
   ]
  },
  {
   "cell_type": "code",
   "execution_count": 33,
   "metadata": {},
   "outputs": [
    {
     "name": "stdout",
     "output_type": "stream",
     "text": [
      "Root IPA created at transaction hash None\n",
      "IPA ID: 0x234B4a0bBC330598aCe669616B9Eff465bd4F3ea\n"
     ]
    }
   ],
   "source": [
    "response = story_client.IPAsset.register(\n",
    "    token_contract=\"0xd516482bef63Ff19Ed40E4C6C2e626ccE04e19ED\", # your NFT contract address\n",
    "    token_id=12 # your NFT token ID\n",
    ")\n",
    "\n",
    "print(f\"Root IPA created at transaction hash {response['txHash']}\")\n",
    "print(f\"IPA ID: {response['ipId']}\")"
   ]
  },
  {
   "cell_type": "code",
   "execution_count": null,
   "metadata": {},
   "outputs": [],
   "source": []
  },
  {
   "cell_type": "code",
   "execution_count": 32,
   "metadata": {},
   "outputs": [
    {
     "ename": "KeyError",
     "evalue": "'txHash'",
     "output_type": "error",
     "traceback": [
      "\u001b[0;31m---------------------------------------------------------------------------\u001b[0m",
      "\u001b[0;31mKeyError\u001b[0m                                  Traceback (most recent call last)",
      "\u001b[1;32m/Users/keonshikkim/VisualStudio/On-Chain-Propaganda/explore.ipynb Cell 4\u001b[0m line \u001b[0;36m7\n\u001b[1;32m      <a href='vscode-notebook-cell:/Users/keonshikkim/VisualStudio/On-Chain-Propaganda/explore.ipynb#W2sZmlsZQ%3D%3D?line=0'>1</a>\u001b[0m response2 \u001b[39m=\u001b[39m story_client\u001b[39m.\u001b[39mLicense\u001b[39m.\u001b[39mregisterCommercialUsePIL(\n\u001b[1;32m      <a href='vscode-notebook-cell:/Users/keonshikkim/VisualStudio/On-Chain-Propaganda/explore.ipynb#W2sZmlsZQ%3D%3D?line=1'>2</a>\u001b[0m     minting_fee\u001b[39m=\u001b[39m\u001b[39m1\u001b[39m,\n\u001b[1;32m      <a href='vscode-notebook-cell:/Users/keonshikkim/VisualStudio/On-Chain-Propaganda/explore.ipynb#W2sZmlsZQ%3D%3D?line=2'>3</a>\u001b[0m     currency\u001b[39m=\u001b[39m\u001b[39m\"\u001b[39m\u001b[39m0xB132A6B7AE652c974EE1557A3521D53d18F6739f\u001b[39m\u001b[39m\"\u001b[39m,\n\u001b[1;32m      <a href='vscode-notebook-cell:/Users/keonshikkim/VisualStudio/On-Chain-Propaganda/explore.ipynb#W2sZmlsZQ%3D%3D?line=3'>4</a>\u001b[0m     royalty_policy\u001b[39m=\u001b[39m\u001b[39m\"\u001b[39m\u001b[39m0xAAbaf349C7a2A84564F9CC4Ac130B3f19A718E86\u001b[39m\u001b[39m\"\u001b[39m\n\u001b[1;32m      <a href='vscode-notebook-cell:/Users/keonshikkim/VisualStudio/On-Chain-Propaganda/explore.ipynb#W2sZmlsZQ%3D%3D?line=4'>5</a>\u001b[0m )\n\u001b[0;32m----> <a href='vscode-notebook-cell:/Users/keonshikkim/VisualStudio/On-Chain-Propaganda/explore.ipynb#W2sZmlsZQ%3D%3D?line=6'>7</a>\u001b[0m \u001b[39mprint\u001b[39m(\u001b[39mf\u001b[39m\u001b[39m\"\u001b[39m\u001b[39mPIL Terms registered at transaction hash \u001b[39m\u001b[39m{\u001b[39;00mresponse2[\u001b[39m'\u001b[39;49m\u001b[39mtxHash\u001b[39;49m\u001b[39m'\u001b[39;49m]\u001b[39m}\u001b[39;00m\u001b[39m License Terms ID: \u001b[39m\u001b[39m{\u001b[39;00mresponse2[\u001b[39m'\u001b[39m\u001b[39mlicenseTermsId\u001b[39m\u001b[39m'\u001b[39m]\u001b[39m}\u001b[39;00m\u001b[39m\"\u001b[39m)\n",
      "\u001b[0;31mKeyError\u001b[0m: 'txHash'"
     ]
    }
   ],
   "source": [
    "response2 = story_client.License.registerCommercialUsePIL(\n",
    "    minting_fee=1,\n",
    "    currency=\"0xB132A6B7AE652c974EE1557A3521D53d18F6739f\",\n",
    "    royalty_policy=\"0xAAbaf349C7a2A84564F9CC4Ac130B3f19A718E86\"\n",
    ")\n",
    "\n",
    "print(f\"PIL Terms registered at transaction hash {response2['txHash']} License Terms ID: {response2['licenseTermsId']}\")"
   ]
  },
  {
   "cell_type": "code",
   "execution_count": 30,
   "metadata": {},
   "outputs": [
    {
     "data": {
      "text/plain": [
       "{'licenseTermsId': 3}"
      ]
     },
     "execution_count": 30,
     "metadata": {},
     "output_type": "execute_result"
    }
   ],
   "source": [
    "response"
   ]
  },
  {
   "cell_type": "code",
   "execution_count": null,
   "metadata": {},
   "outputs": [
    {
     "ename": "KeyError",
     "evalue": "'txHash'",
     "output_type": "error",
     "traceback": [
      "\u001b[0;31m---------------------------------------------------------------------------\u001b[0m",
      "\u001b[0;31mKeyError\u001b[0m                                  Traceback (most recent call last)",
      "\u001b[1;32m/Users/keonshikkim/VisualStudio/On-Chain-Propaganda/explore.ipynb Cell 6\u001b[0m line \u001b[0;36m8\n\u001b[1;32m      <a href='vscode-notebook-cell:/Users/keonshikkim/VisualStudio/On-Chain-Propaganda/explore.ipynb#W5sZmlsZQ%3D%3D?line=0'>1</a>\u001b[0m response \u001b[39m=\u001b[39m story_client\u001b[39m.\u001b[39mLicense\u001b[39m.\u001b[39mregisterCommercialRemixPIL(\n\u001b[1;32m      <a href='vscode-notebook-cell:/Users/keonshikkim/VisualStudio/On-Chain-Propaganda/explore.ipynb#W5sZmlsZQ%3D%3D?line=1'>2</a>\u001b[0m     minting_fee\u001b[39m=\u001b[39m\u001b[39m1\u001b[39m,\n\u001b[1;32m      <a href='vscode-notebook-cell:/Users/keonshikkim/VisualStudio/On-Chain-Propaganda/explore.ipynb#W5sZmlsZQ%3D%3D?line=2'>3</a>\u001b[0m     currency\u001b[39m=\u001b[39m\u001b[39m\"\u001b[39m\u001b[39m0xB132A6B7AE652c974EE1557A3521D53d18F6739f\u001b[39m\u001b[39m\"\u001b[39m,\n\u001b[1;32m      <a href='vscode-notebook-cell:/Users/keonshikkim/VisualStudio/On-Chain-Propaganda/explore.ipynb#W5sZmlsZQ%3D%3D?line=3'>4</a>\u001b[0m     commercial_rev_share\u001b[39m=\u001b[39m\u001b[39m10\u001b[39m,\n\u001b[1;32m      <a href='vscode-notebook-cell:/Users/keonshikkim/VisualStudio/On-Chain-Propaganda/explore.ipynb#W5sZmlsZQ%3D%3D?line=4'>5</a>\u001b[0m     royalty_policy\u001b[39m=\u001b[39m\u001b[39m\"\u001b[39m\u001b[39m0xAAbaf349C7a2A84564F9CC4Ac130B3f19A718E86\u001b[39m\u001b[39m\"\u001b[39m\n\u001b[1;32m      <a href='vscode-notebook-cell:/Users/keonshikkim/VisualStudio/On-Chain-Propaganda/explore.ipynb#W5sZmlsZQ%3D%3D?line=5'>6</a>\u001b[0m )\n\u001b[0;32m----> <a href='vscode-notebook-cell:/Users/keonshikkim/VisualStudio/On-Chain-Propaganda/explore.ipynb#W5sZmlsZQ%3D%3D?line=7'>8</a>\u001b[0m \u001b[39mprint\u001b[39m(\u001b[39mf\u001b[39m\u001b[39m\"\u001b[39m\u001b[39mPIL Terms registered at transaction hash \u001b[39m\u001b[39m{\u001b[39;00mresponse[\u001b[39m'\u001b[39;49m\u001b[39mtxHash\u001b[39;49m\u001b[39m'\u001b[39;49m]\u001b[39m}\u001b[39;00m\u001b[39m License Terms ID: \u001b[39m\u001b[39m{\u001b[39;00mresponse[\u001b[39m'\u001b[39m\u001b[39mlicenseTermsId\u001b[39m\u001b[39m'\u001b[39m]\u001b[39m}\u001b[39;00m\u001b[39m\"\u001b[39m)\n",
      "\u001b[0;31mKeyError\u001b[0m: 'txHash'"
     ]
    }
   ],
   "source": [
    "response3 = story_client.License.registerCommercialRemixPIL(\n",
    "    minting_fee=1,\n",
    "    currency=\"0xB132A6B7AE652c974EE1557A3521D53d18F6739f\",\n",
    "    commercial_rev_share=10,\n",
    "    royalty_policy=\"0xAAbaf349C7a2A84564F9CC4Ac130B3f19A718E86\"\n",
    ")\n",
    "\n",
    "print(f\"PIL Terms registered at transaction hash {response3['txHash']} License Terms ID: {response3['licenseTermsId']}\")"
   ]
  },
  {
   "cell_type": "code",
   "execution_count": null,
   "metadata": {},
   "outputs": [
    {
     "data": {
      "text/plain": [
       "{'licenseTermsId': 60}"
      ]
     },
     "execution_count": 19,
     "metadata": {},
     "output_type": "execute_result"
    }
   ],
   "source": [
    "response"
   ]
  },
  {
   "cell_type": "code",
   "execution_count": null,
   "metadata": {},
   "outputs": [
    {
     "ename": "KeyError",
     "evalue": "'txHash'",
     "output_type": "error",
     "traceback": [
      "\u001b[0;31m---------------------------------------------------------------------------\u001b[0m",
      "\u001b[0;31mKeyError\u001b[0m                                  Traceback (most recent call last)",
      "\u001b[1;32m/Users/keonshikkim/VisualStudio/On-Chain-Propaganda/explore.ipynb Cell 8\u001b[0m line \u001b[0;36m3\n\u001b[1;32m      <a href='vscode-notebook-cell:/Users/keonshikkim/VisualStudio/On-Chain-Propaganda/explore.ipynb#X11sZmlsZQ%3D%3D?line=0'>1</a>\u001b[0m response \u001b[39m=\u001b[39m story_client\u001b[39m.\u001b[39mLicense\u001b[39m.\u001b[39mregisterNonComSocialRemixingPIL()\n\u001b[0;32m----> <a href='vscode-notebook-cell:/Users/keonshikkim/VisualStudio/On-Chain-Propaganda/explore.ipynb#X11sZmlsZQ%3D%3D?line=2'>3</a>\u001b[0m \u001b[39mprint\u001b[39m(\u001b[39mf\u001b[39m\u001b[39m\"\u001b[39m\u001b[39mPIL Terms registered at transaction hash \u001b[39m\u001b[39m{\u001b[39;00mresponse[\u001b[39m'\u001b[39;49m\u001b[39mtxHash\u001b[39;49m\u001b[39m'\u001b[39;49m]\u001b[39m}\u001b[39;00m\u001b[39m License Terms ID: \u001b[39m\u001b[39m{\u001b[39;00mresponse[\u001b[39m'\u001b[39m\u001b[39mlicenseTermsId\u001b[39m\u001b[39m'\u001b[39m]\u001b[39m}\u001b[39;00m\u001b[39m\"\u001b[39m)\n",
      "\u001b[0;31mKeyError\u001b[0m: 'txHash'"
     ]
    }
   ],
   "source": [
    "response = story_client.License.registerNonComSocialRemixingPIL()\n",
    "\n",
    "print(f\"PIL Terms registered at transaction hash {response['txHash']} License Terms ID: {response['licenseTermsId']}\")"
   ]
  },
  {
   "cell_type": "code",
   "execution_count": 26,
   "metadata": {},
   "outputs": [
    {
     "data": {
      "text/plain": [
       "{'licenseTermsId': 3}"
      ]
     },
     "execution_count": 26,
     "metadata": {},
     "output_type": "execute_result"
    }
   ],
   "source": [
    "response"
   ]
  },
  {
   "cell_type": "code",
   "execution_count": 36,
   "metadata": {},
   "outputs": [
    {
     "name": "stdout",
     "output_type": "stream",
     "text": [
      "License Terms already attached to this IPA\n"
     ]
    }
   ],
   "source": [
    "try:\n",
    "  response_a = story_client.License.attachLicenseTerms(\n",
    "    ip_id=\"0x234B4a0bBC330598aCe669616B9Eff465bd4F3ea\", \n",
    "    license_template=\"0x260B6CB6284c89dbE660c0004233f7bB99B5edE7\", \n",
    "    license_terms_id=3\n",
    "  )\n",
    "  print(f\"Attached License Terms to IPA at transaction hash {response_a['txHash']}.\")\n",
    "except Exception as e:\n",
    "  print(\"License Terms already attached to this IPA\")"
   ]
  },
  {
   "cell_type": "code",
   "execution_count": null,
   "metadata": {},
   "outputs": [],
   "source": []
  }
 ],
 "metadata": {
  "kernelspec": {
   "display_name": "programamble_ip",
   "language": "python",
   "name": "python3"
  },
  "language_info": {
   "codemirror_mode": {
    "name": "ipython",
    "version": 3
   },
   "file_extension": ".py",
   "mimetype": "text/x-python",
   "name": "python",
   "nbconvert_exporter": "python",
   "pygments_lexer": "ipython3",
   "version": "3.10.11"
  }
 },
 "nbformat": 4,
 "nbformat_minor": 2
}
