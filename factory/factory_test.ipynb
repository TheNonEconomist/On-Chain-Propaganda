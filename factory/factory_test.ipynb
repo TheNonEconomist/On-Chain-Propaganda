{
 "cells": [
  {
   "cell_type": "code",
   "execution_count": 21,
   "metadata": {},
   "outputs": [
    {
     "data": {
      "text/plain": [
       "True"
      ]
     },
     "execution_count": 21,
     "metadata": {},
     "output_type": "execute_result"
    }
   ],
   "source": [
    "import os\n",
    "from dotenv import load_dotenv\n",
    "import cv2\n",
    "import numpy as np\n",
    "import json\n",
    "\n",
    "load_dotenv()"
   ]
  },
  {
   "cell_type": "code",
   "execution_count": 22,
   "metadata": {},
   "outputs": [
    {
     "name": "stdout",
     "output_type": "stream",
     "text": [
      "{'top_text': [{'emotion': 'angry', 'situation': 'missed_deadline', 'text': 'Why do Devs keep missing deadline!?!'}, {'emotion': 'frustration', 'situation': 'missed_deadline', 'text': 'Devs keep missing deadline?'}, {'emotion': 'frustration', 'situation': 'community_hopium', 'text': 'Smelling Hopium In the Air?'}, {'emotion': 'Happiness', 'situation': 'new_app_launch', 'text': 'Make sure it actually works?'}], 'bottom_text': [{'emotion': 'angry', 'situation': 'missed_deadline', 'text': 'Turn that anger into art. Like this one.'}, {'emotion': 'frustration', 'situation': 'missed_deadline', 'text': \"F*** You Devs, I'm gonna pump this coin myself\"}, {'emotion': 'frustration', 'situation': 'community_hopium', 'text': 'Literally Go Do Anything. Create art, write a blog, shill to your friend.'}, {'emotion': 'Happiness', 'situation': 'new_app_launch', 'text': 'App finally launched.'}], 'pic_path': [{'emotion': 'angry', 'situation': 'missed_deadline', 'text': '/Users/keonshikkim/Desktop/ART PROJECT/Materials/moncat/angry_monc.webp'}, {'emotion': 'frustration', 'situation': 'missed_deadline', 'text': '/Users/keonshikkim/Desktop/ART PROJECT/Materials/moncat/monc_punch.webp'}, {'emotion': 'frustration', 'situation': 'community_hopium', 'text': '/Users/keonshikkim/Desktop/ART PROJECT/Materials/moncat/monc_wants_you.webp'}, {'emotion': 'Happiness', 'situation': 'new_app_launch', 'text': '/Users/keonshikkim/Desktop/ART PROJECT/Materials/moncat/monc_cool.webp'}]}\n"
     ]
    }
   ],
   "source": [
    "CURRENT_PATH = os.getenv('CURRENT_PATH')\n",
    "with open(CURRENT_PATH + \"/factory/context/community_mgmt/materials.json\", \"r\") as f:\n",
    "        materials = json.load(f)\n",
    "        print(materials)"
   ]
  },
  {
   "cell_type": "code",
   "execution_count": 23,
   "metadata": {},
   "outputs": [],
   "source": [
    "from factory import *\n",
    "from factory_widgets import *"
   ]
  },
  {
   "cell_type": "code",
   "execution_count": 24,
   "metadata": {},
   "outputs": [],
   "source": [
    "## Backend Interface is \n",
    "# 1) Grab emotion and situation\n",
    "# 2) Search through materials\n",
    "# 3) Create appropriate combination\n"
   ]
  },
  {
   "cell_type": "code",
   "execution_count": 25,
   "metadata": {},
   "outputs": [],
   "source": [
    "emotion, situation = \"frustration\", \"community_hopium\"\n",
    "\n",
    "pic = emotion_and_situation_to_picture(emotion, situation, materials)\n",
    "tt = emotion_and_situation_to_top_text(emotion, situation, materials)\n",
    "bt = emotion_and_situation_to_bottom_text(emotion, situation, materials)"
   ]
  },
  {
   "cell_type": "code",
   "execution_count": 26,
   "metadata": {},
   "outputs": [
    {
     "data": {
      "text/plain": [
       "('Smelling Hopium In the Air?',\n",
       " 'Literally Go Do Anything. Create art, write a blog, shill to your friend.')"
      ]
     },
     "execution_count": 26,
     "metadata": {},
     "output_type": "execute_result"
    }
   ],
   "source": [
    "tt, bt"
   ]
  },
  {
   "cell_type": "code",
   "execution_count": 27,
   "metadata": {},
   "outputs": [
    {
     "data": {
      "text/plain": [
       "(512, 512, 3)"
      ]
     },
     "execution_count": 27,
     "metadata": {},
     "output_type": "execute_result"
    }
   ],
   "source": [
    "h, w, d = pic.shape\n",
    "h, w, d"
   ]
  },
  {
   "cell_type": "code",
   "execution_count": 28,
   "metadata": {},
   "outputs": [
    {
     "data": {
      "text/plain": [
       "(0, 0, 0)"
      ]
     },
     "execution_count": 28,
     "metadata": {},
     "output_type": "execute_result"
    }
   ],
   "source": [
    "color = grab_background_color(pic, \"corners_and_edges\")\n",
    "color"
   ]
  },
  {
   "cell_type": "code",
   "execution_count": 29,
   "metadata": {},
   "outputs": [
    {
     "data": {
      "text/plain": [
       "(255, 255, 255)"
      ]
     },
     "execution_count": 29,
     "metadata": {},
     "output_type": "execute_result"
    }
   ],
   "source": [
    "r, g, b = color\n",
    "font_color = (int(255 - r), int(255 - g), int(255 - b))\n",
    "font_color"
   ]
  },
  {
   "cell_type": "code",
   "execution_count": 30,
   "metadata": {},
   "outputs": [
    {
     "name": "stdout",
     "output_type": "stream",
     "text": [
      "<class 'numpy.uint8'> <class 'int'>\n",
      "<class 'numpy.uint8'> <class 'int'>\n",
      "<class 'numpy.uint8'> <class 'int'>\n"
     ]
    }
   ],
   "source": [
    "for i,j in zip(color, font_color):\n",
    "    print(type(i), type(j))"
   ]
  },
  {
   "cell_type": "code",
   "execution_count": 31,
   "metadata": {},
   "outputs": [],
   "source": [
    "# top_pad = create_pad_and_text(\n",
    "#     color, h//3, w, d, \n",
    "#     tt, (w//2, h//6), \"center\",\n",
    "#     font=cv2.FONT_ITALIC, font_scale=0.8, font_color=font_color, font_thickness=1\n",
    "# )\n",
    "bottom_pad = create_pad_and_text(\n",
    "    color, h//3, w, d, \n",
    "    bt, (w//2, h//6), \"center\",\n",
    "    font=cv2.FONT_ITALIC, font_scale=0.5, font_color=font_color, font_thickness=1\n",
    ")\n"
   ]
  },
  {
   "cell_type": "code",
   "execution_count": 40,
   "metadata": {},
   "outputs": [],
   "source": [
    "top_pad = create_pad_and_text_wif_font_scaling(\n",
    "    color, h//3, w, d, \n",
    "    tt, (w//2, h//6), \"center\"\n",
    ")\n",
    "# bottom_pad = create_pad_and_text_wif_font_scaling(\n",
    "#     color, h//3, w, d, \n",
    "#     bt, (w//2, h//6), \"center\"\n",
    "# )\n",
    "bottom_pad = create_pad_and_text(\n",
    "    color, h//3, w, d, \n",
    "    bt, (w//2, h//6), \"center\",\n",
    "    font=cv2.FONT_ITALIC, font_scale=0.4, font_color=font_color, font_thickness=1\n",
    ")\n"
   ]
  },
  {
   "cell_type": "code",
   "execution_count": 41,
   "metadata": {},
   "outputs": [
    {
     "data": {
      "text/plain": [
       "True"
      ]
     },
     "execution_count": 41,
     "metadata": {},
     "output_type": "execute_result"
    }
   ],
   "source": [
    "new_pic = concatenate_images_inline([top_pad, pic, bottom_pad], horizontal=False)\n",
    "cv2.imwrite(\"test_propaganda.png\", new_pic)"
   ]
  },
  {
   "cell_type": "code",
   "execution_count": null,
   "metadata": {},
   "outputs": [],
   "source": []
  }
 ],
 "metadata": {
  "kernelspec": {
   "display_name": "programamble_ip",
   "language": "python",
   "name": "python3"
  },
  "language_info": {
   "codemirror_mode": {
    "name": "ipython",
    "version": 3
   },
   "file_extension": ".py",
   "mimetype": "text/x-python",
   "name": "python",
   "nbconvert_exporter": "python",
   "pygments_lexer": "ipython3",
   "version": "3.10.11"
  }
 },
 "nbformat": 4,
 "nbformat_minor": 2
}
