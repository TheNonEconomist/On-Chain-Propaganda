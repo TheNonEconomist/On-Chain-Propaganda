{
 "cells": [
  {
   "cell_type": "code",
   "execution_count": 32,
   "metadata": {},
   "outputs": [
    {
     "data": {
      "text/plain": [
       "True"
      ]
     },
     "execution_count": 32,
     "metadata": {},
     "output_type": "execute_result"
    }
   ],
   "source": [
    "import os\n",
    "from dotenv import load_dotenv\n",
    "import cv2\n",
    "import numpy as np\n",
    "import json\n",
    "\n",
    "load_dotenv()"
   ]
  },
  {
   "cell_type": "code",
   "execution_count": 33,
   "metadata": {},
   "outputs": [
    {
     "name": "stdout",
     "output_type": "stream",
     "text": [
      "{'bottom_text': [{'emotion': 'angry', 'situation': 'rugged', 'text': 'Write down what address, what chain, and report to XYZ what happened'}, {'emotion': 'angry', 'situation': 'drained', 'text': 'Write down what Chain, the address that drained and keep on eye on what projects they touch'}, {'emotion': 'frustration', 'situation': 'limbo', 'text': 'Keep Calm and Build On. Only you can pump your own bags'}, {'emotion': 'shame', 'situation': 'rugged', 'text': 'Write down what address, what chain, and report to XYZ what happened'}, {'emotion': 'shame', 'situation': 'drained', 'text': 'Write down what Chain, the address that drained and keep on eye on what projects they touch'}, {'emotion': 'Happiness', 'situation': 'fund_retrieval_successful', 'text': 'Remember to stay alert and tell others who helped you and how!'}], 'top_text': [{'emotion': 'angry', 'situation': 'rugged', 'text': 'Rugged? Take a deep breath first.'}, {'emotion': 'angry', 'situation': 'drained', 'text': 'Drained? Take a deep breath first.'}, {'emotion': 'frustration', 'situation': 'limbo', 'text': \"Why isn't my bag pumping?\"}, {'emotion': 'shame', 'situation': 'rugged', 'text': 'It happens to everyone...'}, {'emotion': 'shame', 'situation': 'drained', 'text': 'It happens to everyone...'}, {'emotion': 'Happiness', 'situation': 'fund_retrieval_successful', 'text': 'Phew... '}], 'pic_path': [{'emotion': 'angry', 'situation': 'rugged', 'text': '/Users/keonshikkim/Desktop/ART PROJECT/Materials/moncat/angry_monc.webp'}, {'emotion': 'angry', 'situation': 'drained', 'text': '/Users/keonshikkim/Desktop/ART PROJECT/Materials/moncat/angry_monc.webp'}, {'emotion': 'frustration', 'situation': 'limbo', 'text': '/Users/keonshikkim/Desktop/ART PROJECT/Materials/moncat/angry_monc.webp'}, {'emotion': 'shame', 'situation': 'rugged', 'text': '/Users/keonshikkim/Desktop/ART PROJECT/Materials/moncat/monc_butt.webp'}, {'emotion': 'shame', 'situation': 'drained', 'text': '/Users/keonshikkim/Desktop/ART PROJECT/Materials/moncat/monc_butt.webp'}, {'emotion': 'Happiness', 'situation': 'fund_retrieval_successful', 'text': '/Users/keonshikkim/Desktop/ART PROJECT/Materials/moncat/monc_cool.webp'}]}\n"
     ]
    }
   ],
   "source": [
    "CURRENT_PATH = os.getenv('CURRENT_PATH')\n",
    "with open(CURRENT_PATH + \"/factory/context/on_chain_security/materials.json\", \"r\") as f:\n",
    "        materials = json.load(f)\n",
    "        print(materials)"
   ]
  },
  {
   "cell_type": "code",
   "execution_count": 34,
   "metadata": {},
   "outputs": [],
   "source": [
    "from factory import *\n",
    "from factory_widgets import *"
   ]
  },
  {
   "cell_type": "code",
   "execution_count": 35,
   "metadata": {},
   "outputs": [],
   "source": [
    "## Backend Interface is \n",
    "# 1) Grab emotion and situation\n",
    "# 2) Search through materials\n",
    "# 3) Create appropriate combination\n"
   ]
  },
  {
   "cell_type": "code",
   "execution_count": 36,
   "metadata": {},
   "outputs": [],
   "source": [
    "emotion, situation = \"frustration\", \"limbo\"\n",
    "\n",
    "pic = emotion_and_situation_to_picture(emotion, situation, materials)\n",
    "tt = emotion_and_situation_to_top_text(emotion, situation, materials)\n",
    "bt = emotion_and_situation_to_bottom_text(emotion, situation, materials)"
   ]
  },
  {
   "cell_type": "code",
   "execution_count": 37,
   "metadata": {},
   "outputs": [
    {
     "data": {
      "text/plain": [
       "array([[[0, 0, 0],\n",
       "        [0, 0, 0],\n",
       "        [0, 0, 0],\n",
       "        ...,\n",
       "        [0, 0, 0],\n",
       "        [0, 0, 0],\n",
       "        [0, 0, 0]],\n",
       "\n",
       "       [[0, 0, 0],\n",
       "        [0, 0, 0],\n",
       "        [0, 0, 0],\n",
       "        ...,\n",
       "        [0, 0, 0],\n",
       "        [0, 0, 0],\n",
       "        [0, 0, 0]],\n",
       "\n",
       "       [[0, 0, 0],\n",
       "        [0, 0, 0],\n",
       "        [0, 0, 0],\n",
       "        ...,\n",
       "        [0, 0, 0],\n",
       "        [0, 0, 0],\n",
       "        [0, 0, 0]],\n",
       "\n",
       "       ...,\n",
       "\n",
       "       [[0, 0, 0],\n",
       "        [0, 0, 0],\n",
       "        [0, 0, 0],\n",
       "        ...,\n",
       "        [0, 0, 0],\n",
       "        [0, 0, 0],\n",
       "        [0, 0, 0]],\n",
       "\n",
       "       [[0, 0, 0],\n",
       "        [0, 0, 0],\n",
       "        [0, 0, 0],\n",
       "        ...,\n",
       "        [0, 0, 0],\n",
       "        [0, 0, 0],\n",
       "        [0, 0, 0]],\n",
       "\n",
       "       [[0, 0, 0],\n",
       "        [0, 0, 0],\n",
       "        [0, 0, 0],\n",
       "        ...,\n",
       "        [0, 0, 0],\n",
       "        [0, 0, 0],\n",
       "        [0, 0, 0]]], dtype=uint8)"
      ]
     },
     "execution_count": 37,
     "metadata": {},
     "output_type": "execute_result"
    }
   ],
   "source": [
    "pic"
   ]
  },
  {
   "cell_type": "code",
   "execution_count": 38,
   "metadata": {},
   "outputs": [
    {
     "data": {
      "text/plain": [
       "(\"Why isn't my bag pumping?\",\n",
       " 'Keep Calm and Build On. Only you can pump your own bags')"
      ]
     },
     "execution_count": 38,
     "metadata": {},
     "output_type": "execute_result"
    }
   ],
   "source": [
    "tt, bt"
   ]
  },
  {
   "cell_type": "code",
   "execution_count": 39,
   "metadata": {},
   "outputs": [
    {
     "data": {
      "text/plain": [
       "(512, 512, 3)"
      ]
     },
     "execution_count": 39,
     "metadata": {},
     "output_type": "execute_result"
    }
   ],
   "source": [
    "h, w, d = pic.shape\n",
    "h, w, d"
   ]
  },
  {
   "cell_type": "code",
   "execution_count": 40,
   "metadata": {},
   "outputs": [
    {
     "data": {
      "text/plain": [
       "(0, 0, 0)"
      ]
     },
     "execution_count": 40,
     "metadata": {},
     "output_type": "execute_result"
    }
   ],
   "source": [
    "color = grab_background_color(pic, \"corners_and_edges\")\n",
    "color"
   ]
  },
  {
   "cell_type": "code",
   "execution_count": 41,
   "metadata": {},
   "outputs": [
    {
     "name": "stdout",
     "output_type": "stream",
     "text": [
      "(255, 255, 255)\n"
     ]
    },
    {
     "ename": "error",
     "evalue": "OpenCV(4.10.0) :-1: error: (-5:Bad argument) in function 'putText'\n> Overload resolution failed:\n>  - Scalar value for argument 'color' is not numeric\n>  - Scalar value for argument 'color' is not numeric\n",
     "output_type": "error",
     "traceback": [
      "\u001b[0;31m---------------------------------------------------------------------------\u001b[0m",
      "\u001b[0;31merror\u001b[0m                                     Traceback (most recent call last)",
      "\u001b[1;32m/Users/keonshikkim/VisualStudio/On-Chain-Propaganda/factory/factory_test.ipynb Cell 10\u001b[0m line \u001b[0;36m1\n\u001b[0;32m----> <a href='vscode-notebook-cell:/Users/keonshikkim/VisualStudio/On-Chain-Propaganda/factory/factory_test.ipynb#X14sZmlsZQ%3D%3D?line=0'>1</a>\u001b[0m top_pad \u001b[39m=\u001b[39m create_pad_and_text_wif_font_scaling(\n\u001b[1;32m      <a href='vscode-notebook-cell:/Users/keonshikkim/VisualStudio/On-Chain-Propaganda/factory/factory_test.ipynb#X14sZmlsZQ%3D%3D?line=1'>2</a>\u001b[0m     color, h\u001b[39m/\u001b[39;49m\u001b[39m/\u001b[39;49m\u001b[39m3\u001b[39;49m, w, d, \n\u001b[1;32m      <a href='vscode-notebook-cell:/Users/keonshikkim/VisualStudio/On-Chain-Propaganda/factory/factory_test.ipynb#X14sZmlsZQ%3D%3D?line=2'>3</a>\u001b[0m     tt, (w\u001b[39m/\u001b[39;49m\u001b[39m/\u001b[39;49m\u001b[39m2\u001b[39;49m, h\u001b[39m/\u001b[39;49m\u001b[39m/\u001b[39;49m\u001b[39m6\u001b[39;49m), \u001b[39m\"\u001b[39;49m\u001b[39mcenter\u001b[39;49m\u001b[39m\"\u001b[39;49m\n\u001b[1;32m      <a href='vscode-notebook-cell:/Users/keonshikkim/VisualStudio/On-Chain-Propaganda/factory/factory_test.ipynb#X14sZmlsZQ%3D%3D?line=3'>4</a>\u001b[0m )\n\u001b[1;32m      <a href='vscode-notebook-cell:/Users/keonshikkim/VisualStudio/On-Chain-Propaganda/factory/factory_test.ipynb#X14sZmlsZQ%3D%3D?line=4'>5</a>\u001b[0m bottom_pad \u001b[39m=\u001b[39m create_pad_and_text_wif_font_scaling(\n\u001b[1;32m      <a href='vscode-notebook-cell:/Users/keonshikkim/VisualStudio/On-Chain-Propaganda/factory/factory_test.ipynb#X14sZmlsZQ%3D%3D?line=5'>6</a>\u001b[0m     color, h\u001b[39m/\u001b[39m\u001b[39m/\u001b[39m\u001b[39m3\u001b[39m, w, d, \n\u001b[1;32m      <a href='vscode-notebook-cell:/Users/keonshikkim/VisualStudio/On-Chain-Propaganda/factory/factory_test.ipynb#X14sZmlsZQ%3D%3D?line=6'>7</a>\u001b[0m     bt, (w\u001b[39m/\u001b[39m\u001b[39m/\u001b[39m\u001b[39m2\u001b[39m, h\u001b[39m/\u001b[39m\u001b[39m/\u001b[39m\u001b[39m6\u001b[39m), \u001b[39m\"\u001b[39m\u001b[39mcenter\u001b[39m\u001b[39m\"\u001b[39m\n\u001b[1;32m      <a href='vscode-notebook-cell:/Users/keonshikkim/VisualStudio/On-Chain-Propaganda/factory/factory_test.ipynb#X14sZmlsZQ%3D%3D?line=7'>8</a>\u001b[0m )\n",
      "File \u001b[0;32m~/VisualStudio/On-Chain-Propaganda/factory/factory_widgets.py:136\u001b[0m, in \u001b[0;36mcreate_pad_and_text_wif_font_scaling\u001b[0;34m(color, height, width, depth, text, text_position, alignment)\u001b[0m\n\u001b[1;32m    134\u001b[0m font_color \u001b[39m=\u001b[39m __opposite_RGB(color)\n\u001b[1;32m    135\u001b[0m \u001b[39mprint\u001b[39m(font_color)\n\u001b[0;32m--> 136\u001b[0m \u001b[39mreturn\u001b[39;00m create_pad_and_text(\n\u001b[1;32m    137\u001b[0m     color, height, width, depth, \n\u001b[1;32m    138\u001b[0m     text, text_position, alignment,\n\u001b[1;32m    139\u001b[0m     font\u001b[39m=\u001b[39;49mcv2\u001b[39m.\u001b[39;49mFONT_ITALIC, font_scale\u001b[39m=\u001b[39;49mfont_scale, font_color\u001b[39m=\u001b[39;49mfont_color, font_thickness\u001b[39m=\u001b[39;49m\u001b[39m1\u001b[39;49m\n\u001b[1;32m    140\u001b[0m )\n",
      "File \u001b[0;32m~/VisualStudio/On-Chain-Propaganda/factory/factory_widgets.py:117\u001b[0m, in \u001b[0;36mcreate_pad_and_text\u001b[0;34m(color, height, width, depth, text, text_position, alignment, font, font_scale, font_color, font_thickness)\u001b[0m\n\u001b[1;32m    112\u001b[0m \u001b[39mdef\u001b[39;00m \u001b[39mcreate_pad_and_text\u001b[39m(\n\u001b[1;32m    113\u001b[0m         color, height, width, depth, \n\u001b[1;32m    114\u001b[0m         text, text_position, alignment,\n\u001b[1;32m    115\u001b[0m         font, font_scale, font_color, font_thickness):\n\u001b[1;32m    116\u001b[0m     pad \u001b[39m=\u001b[39m create_pad(color, height, width, depth)\n\u001b[0;32m--> 117\u001b[0m     \u001b[39mreturn\u001b[39;00m add_text_alignment_check(\n\u001b[1;32m    118\u001b[0m         image_path\u001b[39m=\u001b[39;49m\u001b[39mNone\u001b[39;49;00m, image\u001b[39m=\u001b[39;49mpad, inline\u001b[39m=\u001b[39;49m\u001b[39mTrue\u001b[39;49;00m,\n\u001b[1;32m    119\u001b[0m         text\u001b[39m=\u001b[39;49mtext, \n\u001b[1;32m    120\u001b[0m         position\u001b[39m=\u001b[39;49mtext_position, alignment\u001b[39m=\u001b[39;49malignment,\n\u001b[1;32m    121\u001b[0m         font\u001b[39m=\u001b[39;49mfont, font_scale\u001b[39m=\u001b[39;49mfont_scale, font_color\u001b[39m=\u001b[39;49mfont_color, font_thickness\u001b[39m=\u001b[39;49mfont_thickness\n\u001b[1;32m    122\u001b[0m         )\n",
      "File \u001b[0;32m~/VisualStudio/On-Chain-Propaganda/factory/factory_widgets.py:40\u001b[0m, in \u001b[0;36madd_text_alignment_check\u001b[0;34m(image_path, image, inline, text, position, alignment, font, font_scale, font_color, font_thickness)\u001b[0m\n\u001b[1;32m     37\u001b[0m     position \u001b[39m=\u001b[39m (position[\u001b[39m0\u001b[39m]\u001b[39m-\u001b[39mtext_w\u001b[39m/\u001b[39m\u001b[39m/\u001b[39m\u001b[39m2\u001b[39m, position[\u001b[39m1\u001b[39m]\u001b[39m+\u001b[39mtext_h\u001b[39m/\u001b[39m\u001b[39m/\u001b[39m\u001b[39m2\u001b[39m)\n\u001b[1;32m     39\u001b[0m \u001b[39mif\u001b[39;00m inline \u001b[39mis\u001b[39;00m \u001b[39mTrue\u001b[39;00m:\n\u001b[0;32m---> 40\u001b[0m     \u001b[39mreturn\u001b[39;00m __add_text_to_image_inline(image, text, position, font, font_scale, font_color, font_thickness)\n\u001b[1;32m     41\u001b[0m \u001b[39melse\u001b[39;00m:\n\u001b[1;32m     42\u001b[0m     \u001b[39mreturn\u001b[39;00m __add_text_to_image_path(image_path, text, position, font, font_scale, font_color, font_thickness)\n",
      "File \u001b[0;32m~/VisualStudio/On-Chain-Propaganda/factory/factory_widgets.py:62\u001b[0m, in \u001b[0;36m__add_text_to_image_inline\u001b[0;34m(image, text, position, font, font_scale, font_color, font_thickness)\u001b[0m\n\u001b[1;32m     60\u001b[0m \u001b[39mdef\u001b[39;00m \u001b[39m__add_text_to_image_inline\u001b[39m(image, text, position, font\u001b[39m=\u001b[39mcv2\u001b[39m.\u001b[39mFONT_ITALIC, font_scale\u001b[39m=\u001b[39m\u001b[39m1\u001b[39m, font_color\u001b[39m=\u001b[39m(\u001b[39m255\u001b[39m, \u001b[39m0\u001b[39m, \u001b[39m0\u001b[39m), font_thickness\u001b[39m=\u001b[39m\u001b[39m50\u001b[39m):\n\u001b[1;32m     61\u001b[0m     \u001b[39m# Add text to the image\u001b[39;00m\n\u001b[0;32m---> 62\u001b[0m     cv2\u001b[39m.\u001b[39;49mputText(image, text, position, font, font_scale, font_color, font_thickness)\n\u001b[1;32m     64\u001b[0m     \u001b[39mreturn\u001b[39;00m image\n",
      "\u001b[0;31merror\u001b[0m: OpenCV(4.10.0) :-1: error: (-5:Bad argument) in function 'putText'\n> Overload resolution failed:\n>  - Scalar value for argument 'color' is not numeric\n>  - Scalar value for argument 'color' is not numeric\n"
     ]
    }
   ],
   "source": [
    "top_pad = create_pad_and_text_wif_font_scaling(\n",
    "    color, h//3, w, d, \n",
    "    tt, (w//2, h//6), \"center\"\n",
    ")\n",
    "bottom_pad = create_pad_and_text_wif_font_scaling(\n",
    "    color, h//3, w, d, \n",
    "    bt, (w//2, h//6), \"center\"\n",
    ")\n"
   ]
  },
  {
   "cell_type": "code",
   "execution_count": 59,
   "metadata": {},
   "outputs": [
    {
     "data": {
      "text/plain": [
       "True"
      ]
     },
     "execution_count": 59,
     "metadata": {},
     "output_type": "execute_result"
    }
   ],
   "source": [
    "new_pic = concatenate_images_inline([top_pad, pic, bottom_pad], horizontal=False)\n",
    "cv2.imwrite(\"test_propaganda.png\", new_pic)"
   ]
  },
  {
   "cell_type": "code",
   "execution_count": null,
   "metadata": {},
   "outputs": [],
   "source": []
  }
 ],
 "metadata": {
  "kernelspec": {
   "display_name": "programamble_ip",
   "language": "python",
   "name": "python3"
  },
  "language_info": {
   "codemirror_mode": {
    "name": "ipython",
    "version": 3
   },
   "file_extension": ".py",
   "mimetype": "text/x-python",
   "name": "python",
   "nbconvert_exporter": "python",
   "pygments_lexer": "ipython3",
   "version": "3.10.11"
  }
 },
 "nbformat": 4,
 "nbformat_minor": 2
}
