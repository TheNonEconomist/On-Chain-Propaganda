{
 "cells": [
  {
   "cell_type": "code",
   "execution_count": 17,
   "metadata": {},
   "outputs": [
    {
     "data": {
      "text/plain": [
       "True"
      ]
     },
     "execution_count": 17,
     "metadata": {},
     "output_type": "execute_result"
    }
   ],
   "source": [
    "import os\n",
    "from dotenv import load_dotenv\n",
    "import cv2\n",
    "import numpy as np\n",
    "import json\n",
    "\n",
    "load_dotenv()"
   ]
  },
  {
   "cell_type": "code",
   "execution_count": 18,
   "metadata": {},
   "outputs": [
    {
     "name": "stdout",
     "output_type": "stream",
     "text": [
      "{'bottom_text': [{'emotion': 'angry', 'situation': 'rugged', 'text': 'Write down what address, what chain, and report to XYZ what happened'}, {'emotion': 'angry', 'situation': 'drained', 'text': 'Write down what Chain, the address that drained and keep on eye on what projects they touch'}, {'emotion': 'frustration', 'situation': 'limbo', 'text': 'Keep Calm and Build On. Only you can pump your own bags'}, {'emotion': 'shame', 'situation': 'rugged', 'text': 'Write down what address, what chain, and report to XYZ what happened'}, {'emotion': 'shame', 'situation': 'drained', 'text': 'Write down what Chain, the address that drained and keep on eye on what projects they touch'}, {'emotion': 'Happiness', 'situation': 'fund_retrieval_successful', 'text': 'Remember to stay alert and tell others who helped you and how!'}], 'top_text': [{'emotion': 'angry', 'situation': 'rugged', 'text': 'Rugged? Take a deep breath first.'}, {'emotion': 'angry', 'situation': 'drained', 'text': 'Drained? Take a deep breath first.'}, {'emotion': 'frustration', 'situation': 'limbo', 'text': \"Why isn't my bag pumping?\"}, {'emotion': 'shame', 'situation': 'rugged', 'text': 'It happens to everyone...'}, {'emotion': 'shame', 'situation': 'drained', 'text': 'It happens to everyone...'}, {'emotion': 'Happiness', 'situation': 'fund_retrieval_successful', 'text': 'Phew... '}], 'pic_path': [{'emotion': 'angry', 'situation': 'rugged', 'text': '/Users/keonshikkim/Desktop/ART PROJECT/Materials/moncat/angry_monc.webp'}, {'emotion': 'angry', 'situation': 'drained', 'text': '/Users/keonshikkim/Desktop/ART PROJECT/Materials/moncat/angry_monc.webp'}, {'emotion': 'frustration', 'situation': 'limbo', 'text': '/Users/keonshikkim/Desktop/ART PROJECT/Materials/moncat/angry_monc.webp'}, {'emotion': 'shame', 'situation': 'rugged', 'text': '/Users/keonshikkim/Desktop/ART PROJECT/Materials/moncat/monc_butt.webp'}, {'emotion': 'shame', 'situation': 'drained', 'text': '/Users/keonshikkim/Desktop/ART PROJECT/Materials/moncat/monc_butt.webp'}, {'emotion': 'Happiness', 'situation': 'fund_retrieval_successful', 'text': '/Users/keonshikkim/Desktop/ART PROJECT/Materials/moncat/monc_cool.webp'}]}\n"
     ]
    }
   ],
   "source": [
    "CURRENT_PATH = os.getenv('CURRENT_PATH')\n",
    "with open(CURRENT_PATH + \"/factory/context/on_chain_security/materials.json\", \"r\") as f:\n",
    "        materials = json.load(f)\n",
    "        print(materials)"
   ]
  },
  {
   "cell_type": "code",
   "execution_count": 19,
   "metadata": {},
   "outputs": [],
   "source": [
    "from factory import *\n",
    "from factory_widgets import *"
   ]
  },
  {
   "cell_type": "code",
   "execution_count": 20,
   "metadata": {},
   "outputs": [],
   "source": [
    "## Backend Interface is \n",
    "# 1) Grab emotion and situation\n",
    "# 2) Search through materials\n",
    "# 3) Create appropriate combination\n"
   ]
  },
  {
   "cell_type": "code",
   "execution_count": 23,
   "metadata": {},
   "outputs": [],
   "source": [
    "emotion, situation = \"frustration\", \"limbo\"\n",
    "\n",
    "pic = emotion_and_situation_to_picture(emotion, situation, materials)\n",
    "tt = emotion_and_situation_to_top_text(emotion, situation, materials)\n",
    "bt = emotion_and_situation_to_bottom_text(emotion, situation, materials)"
   ]
  },
  {
   "cell_type": "code",
   "execution_count": 24,
   "metadata": {},
   "outputs": [
    {
     "data": {
      "text/plain": [
       "array([[[0, 0, 0],\n",
       "        [0, 0, 0],\n",
       "        [0, 0, 0],\n",
       "        ...,\n",
       "        [0, 0, 0],\n",
       "        [0, 0, 0],\n",
       "        [0, 0, 0]],\n",
       "\n",
       "       [[0, 0, 0],\n",
       "        [0, 0, 0],\n",
       "        [0, 0, 0],\n",
       "        ...,\n",
       "        [0, 0, 0],\n",
       "        [0, 0, 0],\n",
       "        [0, 0, 0]],\n",
       "\n",
       "       [[0, 0, 0],\n",
       "        [0, 0, 0],\n",
       "        [0, 0, 0],\n",
       "        ...,\n",
       "        [0, 0, 0],\n",
       "        [0, 0, 0],\n",
       "        [0, 0, 0]],\n",
       "\n",
       "       ...,\n",
       "\n",
       "       [[0, 0, 0],\n",
       "        [0, 0, 0],\n",
       "        [0, 0, 0],\n",
       "        ...,\n",
       "        [0, 0, 0],\n",
       "        [0, 0, 0],\n",
       "        [0, 0, 0]],\n",
       "\n",
       "       [[0, 0, 0],\n",
       "        [0, 0, 0],\n",
       "        [0, 0, 0],\n",
       "        ...,\n",
       "        [0, 0, 0],\n",
       "        [0, 0, 0],\n",
       "        [0, 0, 0]],\n",
       "\n",
       "       [[0, 0, 0],\n",
       "        [0, 0, 0],\n",
       "        [0, 0, 0],\n",
       "        ...,\n",
       "        [0, 0, 0],\n",
       "        [0, 0, 0],\n",
       "        [0, 0, 0]]], dtype=uint8)"
      ]
     },
     "execution_count": 24,
     "metadata": {},
     "output_type": "execute_result"
    }
   ],
   "source": [
    "pic"
   ]
  },
  {
   "cell_type": "code",
   "execution_count": 28,
   "metadata": {},
   "outputs": [
    {
     "data": {
      "text/plain": [
       "(\"Why isn't my bag pumping?\",\n",
       " 'Keep Calm and Build On. Only you can pump your own bags')"
      ]
     },
     "execution_count": 28,
     "metadata": {},
     "output_type": "execute_result"
    }
   ],
   "source": [
    "tt, bt"
   ]
  },
  {
   "cell_type": "code",
   "execution_count": 30,
   "metadata": {},
   "outputs": [
    {
     "data": {
      "text/plain": [
       "(512, 512, 3)"
      ]
     },
     "execution_count": 30,
     "metadata": {},
     "output_type": "execute_result"
    }
   ],
   "source": [
    "h, w, d = pic.shape\n",
    "h, w, d"
   ]
  },
  {
   "cell_type": "code",
   "execution_count": 44,
   "metadata": {},
   "outputs": [],
   "source": [
    "color = grab_background_color(pic, \"corners_and_edges\")\n",
    "top_pad = create_pad_and_text(\n",
    "    color, h//3, w, d, \n",
    "    tt, (w//2, h//6), \"center\",\n",
    "    font=cv2.FONT_ITALIC, font_scale=0.5, font_color=(255, 255, 255), font_thickness=1\n",
    ")\n",
    "bottom_pad = create_pad_and_text(\n",
    "    color, h//3, w, d, \n",
    "    bt, (w//2, h//6), \"center\",\n",
    "    font=cv2.FONT_ITALIC, font_scale=0.5, font_color=(255, 255, 255), font_thickness=1\n",
    ")\n"
   ]
  },
  {
   "cell_type": "code",
   "execution_count": 45,
   "metadata": {},
   "outputs": [
    {
     "data": {
      "text/plain": [
       "True"
      ]
     },
     "execution_count": 45,
     "metadata": {},
     "output_type": "execute_result"
    }
   ],
   "source": [
    "new_pic = concatenate_images_inline([top_pad, pic, bottom_pad], horizontal=False)\n",
    "cv2.imwrite(\"test_propaganda.png\", new_pic)"
   ]
  },
  {
   "cell_type": "code",
   "execution_count": null,
   "metadata": {},
   "outputs": [],
   "source": []
  }
 ],
 "metadata": {
  "kernelspec": {
   "display_name": "programamble_ip",
   "language": "python",
   "name": "python3"
  },
  "language_info": {
   "codemirror_mode": {
    "name": "ipython",
    "version": 3
   },
   "file_extension": ".py",
   "mimetype": "text/x-python",
   "name": "python",
   "nbconvert_exporter": "python",
   "pygments_lexer": "ipython3",
   "version": "3.10.11"
  }
 },
 "nbformat": 4,
 "nbformat_minor": 2
}
